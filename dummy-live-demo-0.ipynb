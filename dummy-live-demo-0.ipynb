{
  "nbformat": 4,
  "nbformat_minor": 0,
  "metadata": {
    "colab": {
      "name": "dummy-live-demo-0.ipynb",
      "version": "0.3.2",
      "provenance": [],
      "collapsed_sections": [],
      "include_colab_link": true
    },
    "kernelspec": {
      "name": "python3",
      "display_name": "Python 3"
    },
    "accelerator": "GPU"
  },
  "cells": [
    {
      "cell_type": "markdown",
      "metadata": {
        "id": "view-in-github",
        "colab_type": "text"
      },
      "source": [
        "<a href=\"https://colab.research.google.com/github/hpcgarage/pyboot-g2s3/blob/master/dummy-live-demo-0.ipynb\" target=\"_parent\"><img src=\"https://colab.research.google.com/assets/colab-badge.svg\" alt=\"Open In Colab\"/></a>"
      ]
    },
    {
      "cell_type": "markdown",
      "metadata": {
        "id": "-z_nN-vhSwtO",
        "colab_type": "text"
      },
      "source": [
        "(This notebook was the \"scratch\" notebook that we did in the first few minutes of class.)"
      ]
    },
    {
      "cell_type": "code",
      "metadata": {
        "id": "JCK5GTEOtFVS",
        "colab_type": "code",
        "colab": {
          "base_uri": "https://localhost:8080/",
          "height": 51
        },
        "outputId": "1d4c6b11-1e34-41af-9614-b62083cd504b"
      },
      "source": [
        "import sys\n",
        "print(sys.version)"
      ],
      "execution_count": 1,
      "outputs": [
        {
          "output_type": "stream",
          "text": [
            "3.6.7 (default, Oct 22 2018, 11:32:17) \n",
            "[GCC 8.2.0]\n"
          ],
          "name": "stdout"
        }
      ]
    },
    {
      "cell_type": "code",
      "metadata": {
        "id": "Juke6DP8t0aQ",
        "colab_type": "code",
        "colab": {}
      },
      "source": [
        "x = 5"
      ],
      "execution_count": 0,
      "outputs": []
    },
    {
      "cell_type": "code",
      "metadata": {
        "id": "KtdwEachuMzo",
        "colab_type": "code",
        "colab": {
          "base_uri": "https://localhost:8080/",
          "height": 34
        },
        "outputId": "0c40c611-0f0e-4019-f8aa-afd005db5502"
      },
      "source": [
        "print(x)"
      ],
      "execution_count": 3,
      "outputs": [
        {
          "output_type": "stream",
          "text": [
            "5\n"
          ],
          "name": "stdout"
        }
      ]
    },
    {
      "cell_type": "code",
      "metadata": {
        "id": "NKrBJCLVuPMc",
        "colab_type": "code",
        "colab": {}
      },
      "source": [
        "x = 'hello, world'"
      ],
      "execution_count": 0,
      "outputs": []
    },
    {
      "cell_type": "code",
      "metadata": {
        "id": "y8CTwIRVuhJG",
        "colab_type": "code",
        "colab": {}
      },
      "source": [
        ""
      ],
      "execution_count": 0,
      "outputs": []
    },
    {
      "cell_type": "markdown",
      "metadata": {
        "id": "CGWhJu9au3MM",
        "colab_type": "text"
      },
      "source": [
        "hi, from aussois! bon jour\n",
        "\n",
        "# header\n",
        "\n",
        "# subheadings\n",
        "\n",
        "**bold face.** Blah blah blah\n",
        "\n",
        "Einstein once said, $E = mc^2$"
      ]
    },
    {
      "cell_type": "code",
      "metadata": {
        "id": "DHCFK086u7W4",
        "colab_type": "code",
        "colab": {}
      },
      "source": [
        "import torch"
      ],
      "execution_count": 0,
      "outputs": []
    },
    {
      "cell_type": "code",
      "metadata": {
        "id": "xqyUbctXvi4B",
        "colab_type": "code",
        "colab": {}
      },
      "source": [
        "A = torch.rand(1000, 1000)\n",
        "B = torch.rand(1000, 1000)\n",
        "C = A @ B"
      ],
      "execution_count": 0,
      "outputs": []
    },
    {
      "cell_type": "code",
      "metadata": {
        "id": "fRAmHScBvz7r",
        "colab_type": "code",
        "colab": {
          "base_uri": "https://localhost:8080/",
          "height": 102
        },
        "outputId": "c5b96252-67fd-4373-9bc0-9abba4945279"
      },
      "source": [
        "A[:5, :5]"
      ],
      "execution_count": 3,
      "outputs": [
        {
          "output_type": "execute_result",
          "data": {
            "text/plain": [
              "tensor([[0.9843, 0.1367, 0.4662, 0.8078, 0.9788],\n",
              "        [0.7410, 0.6941, 0.8528, 0.6672, 0.1405],\n",
              "        [0.7242, 0.7634, 0.4149, 0.6960, 0.5286],\n",
              "        [0.0740, 0.3893, 0.0227, 0.6547, 0.7113],\n",
              "        [0.4441, 0.4053, 0.1644, 0.5191, 0.3171]])"
            ]
          },
          "metadata": {
            "tags": []
          },
          "execution_count": 3
        }
      ]
    },
    {
      "cell_type": "code",
      "metadata": {
        "id": "h5RT2E06v6zN",
        "colab_type": "code",
        "colab": {
          "base_uri": "https://localhost:8080/",
          "height": 34
        },
        "outputId": "f509023f-bafe-4c05-bc97-9b93b8a7d4d4"
      },
      "source": [
        "t_cpu = %timeit -o A @ B "
      ],
      "execution_count": 4,
      "outputs": [
        {
          "output_type": "stream",
          "text": [
            "10 loops, best of 3: 27 ms per loop\n"
          ],
          "name": "stdout"
        }
      ]
    },
    {
      "cell_type": "code",
      "metadata": {
        "id": "AVO0t8C5wTtR",
        "colab_type": "code",
        "colab": {}
      },
      "source": [
        "Ag = A.to('cuda')"
      ],
      "execution_count": 0,
      "outputs": []
    },
    {
      "cell_type": "code",
      "metadata": {
        "id": "DEg_52VjwlJ8",
        "colab_type": "code",
        "colab": {}
      },
      "source": [
        "Bg = B.to('cuda')\n",
        "Cg = Ag @ Bg"
      ],
      "execution_count": 0,
      "outputs": []
    },
    {
      "cell_type": "code",
      "metadata": {
        "id": "ft90XEGOwpXB",
        "colab_type": "code",
        "colab": {
          "base_uri": "https://localhost:8080/",
          "height": 34
        },
        "outputId": "c36d6ffd-ead5-41d9-a199-46ea2a5a4305"
      },
      "source": [
        "(Cg.to('cpu') - C).abs().max()"
      ],
      "execution_count": 8,
      "outputs": [
        {
          "output_type": "execute_result",
          "data": {
            "text/plain": [
              "tensor(0.0006)"
            ]
          },
          "metadata": {
            "tags": []
          },
          "execution_count": 8
        }
      ]
    },
    {
      "cell_type": "code",
      "metadata": {
        "id": "3_NJPeKawvIJ",
        "colab_type": "code",
        "colab": {
          "base_uri": "https://localhost:8080/",
          "height": 34
        },
        "outputId": "23e96636-3f06-4e11-99bb-01876b112538"
      },
      "source": [
        "C.dtype"
      ],
      "execution_count": 9,
      "outputs": [
        {
          "output_type": "execute_result",
          "data": {
            "text/plain": [
              "torch.float32"
            ]
          },
          "metadata": {
            "tags": []
          },
          "execution_count": 9
        }
      ]
    },
    {
      "cell_type": "code",
      "metadata": {
        "id": "mhUuMqH7xG-0",
        "colab_type": "code",
        "colab": {
          "base_uri": "https://localhost:8080/",
          "height": 34
        },
        "outputId": "efa85874-58b6-4220-f8d0-b282f07261c5"
      },
      "source": [
        "t_gpu = %timeit -o Ag @ Bg"
      ],
      "execution_count": 10,
      "outputs": [
        {
          "output_type": "stream",
          "text": [
            "10000 loops, best of 3: 522 µs per loop\n"
          ],
          "name": "stdout"
        }
      ]
    }
  ]
}