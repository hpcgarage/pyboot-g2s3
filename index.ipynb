{
 "cells": [
  {
   "cell_type": "markdown",
   "metadata": {
    "colab_type": "text",
    "id": "view-in-github"
   },
   "source": [
    "[![Open in Colab](https://colab.research.google.com/assets/colab-badge.svg)](https://colab.research.google.com/github/hpcgarage/pyboot-g2s3/blob/master/index.ipynb)\n",
    "\n",
    "# G2S3 Python Bootcamp #\n",
    "\n",
    "These materials were created for the [Gene Golub SIAM Summer School on High-Performance Data Analytics (2019)](https://project.inria.fr/siamsummerschool/). They are also available in a [repository on GitHub](https://github.com/hpcgarage/pyboot-g2s3). They borrow liberally from [Jake Vanderplas's \"Whirlwind Tour of Python\"](https://jakevdp.github.io/WhirlwindTourOfPython/) (highly recommended reading!) and [Georgia Tech's CSE 6040: Computing for Data Analysis](https://cse6040.gatech.edu).\n",
    "\n",
    "- [Primitive values, variables, and types](./001-values.ipynb)\n",
    "- Basic data structures: lists, tuples, dictionaries, sets\n",
    "- Control-flow, loops\n",
    "- Functions"
   ]
  },
  {
   "cell_type": "markdown",
   "metadata": {},
   "source": [
    "We'll use the cells below as dummy cells to help us get familiar with [Jupyter](https://jupyter.org/). More information on Jupyter, and its predecessor and command-line alternative, [IPython](https://ipython.org/), may be found in Jake Vanderplas's other book, the [Python Data Science Handbook](https://jakevdp.github.io/PythonDataScienceHandbook/)."
   ]
  },
  {
   "cell_type": "code",
   "execution_count": null,
   "metadata": {
    "colab": {},
    "colab_type": "code",
    "id": "tlV1QNdB5YLG"
   },
   "outputs": [],
   "source": [
    "# This is a code cell\n",
    "\n",
    "print(\"Hello, world!\")"
   ]
  },
  {
   "cell_type": "markdown",
   "metadata": {},
   "source": [
    "(By contrast, this cell is for documentation and is written in Markdown syntax.)"
   ]
  },
  {
   "cell_type": "code",
   "execution_count": null,
   "metadata": {},
   "outputs": [],
   "source": [
    "print(\"Hello,\", \"world!\")"
   ]
  },
  {
   "cell_type": "code",
   "execution_count": null,
   "metadata": {},
   "outputs": [],
   "source": [
    "\"Hello, world!\""
   ]
  },
  {
   "cell_type": "code",
   "execution_count": null,
   "metadata": {},
   "outputs": [],
   "source": [
    "\"Hello, world!\"\n",
    "\"Goodbye, world!\""
   ]
  },
  {
   "cell_type": "code",
   "execution_count": null,
   "metadata": {},
   "outputs": [],
   "source": [
    "\"\"\"Hello, world!\n",
    "Goodbye, world!\"\"\""
   ]
  }
 ],
 "metadata": {
  "colab": {
   "include_colab_link": true,
   "name": "Untitled5.ipynb",
   "provenance": [],
   "version": "0.3.2"
  },
  "kernelspec": {
   "display_name": "Python 3",
   "language": "python",
   "name": "python3"
  },
  "language_info": {
   "codemirror_mode": {
    "name": "ipython",
    "version": 3
   },
   "file_extension": ".py",
   "mimetype": "text/x-python",
   "name": "python",
   "nbconvert_exporter": "python",
   "pygments_lexer": "ipython3",
   "version": "3.7.3"
  }
 },
 "nbformat": 4,
 "nbformat_minor": 1
}
